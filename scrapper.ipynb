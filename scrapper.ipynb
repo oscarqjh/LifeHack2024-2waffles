{
 "cells": [
  {
   "cell_type": "code",
   "execution_count": 77,
   "metadata": {},
   "outputs": [],
   "source": [
    "from datetime import date\n",
    "from bs4 import BeautifulSoup as soup\n",
    "import requests\n",
    "import tqdm.notebook as tq\n",
    "import random\n",
    "from datetime import datetime\n",
    "import calendar"
   ]
  },
  {
   "cell_type": "code",
   "execution_count": 79,
   "metadata": {},
   "outputs": [],
   "source": [
    "def scrape_cna():\n",
    "    \"\"\"\n",
    "    Scrape Channel News Asia Topic Terrorism\n",
    "    \"\"\"   \n",
    "    # Base URL\n",
    "    cna_url=\"https://www.channelnewsasia.com/topic/terrorism\"\n",
    "    cna_base_url = 'https://www.channelnewsasia.com'\n",
    "\n",
    "    # Get webpage\n",
    "    html = requests.get(cna_url)\n",
    "\n",
    "    # Initialise bs object\n",
    "    bsobj = soup(html.content,'lxml')\n",
    "\n",
    "    # Find all headers\n",
    "    headers = bsobj.findAll(\"h6\")\n",
    "\n",
    "    # initialize the progress bar\n",
    "    # select a random color\n",
    "    colors = ['red', 'green', 'yellow', 'blue', 'magenta', 'cyan', 'white', 'steelblue']\n",
    "    random_color = random.choice(colors)\n",
    "    loop = tq.tqdm(enumerate(headers), total=len(headers), \n",
    "                        leave=True, colour=random_color, unit='article')\n",
    "\n",
    "    articles = []\n",
    "\n",
    "    for _, header in loop:\n",
    "        item = {\n",
    "            'headline': header.text\n",
    "        }\n",
    "\n",
    "        # Enter news article\n",
    "        news_link = cna_base_url + header.a['href']\n",
    "        news_html = requests.get(news_link)\n",
    "\n",
    "        # Traverse news article for main body\n",
    "        article = soup(news_html.content,'lxml')\n",
    "        content = article.find('div', {'class': 'content'})\n",
    "        if content:\n",
    "            content_wrapper = content.find_all('div', {'class': 'content-wrapper'})\n",
    "\n",
    "            article_text = []\n",
    "            for content in content_wrapper:\n",
    "                # Extract text\n",
    "                main_text = content.find('div', {'class': 'text'})\n",
    "                if main_text:\n",
    "                    article_text.append(main_text.get_text())\n",
    "        \n",
    "            item['text'] = article_text\n",
    "            articles.append(item)\n",
    "        \n",
    "        # Get timestamp\n",
    "        timestamp_element = article.find('div', {'class': 'article-publish'})\n",
    "        if timestamp_element:\n",
    "            timestamp = timestamp_element.get_text(separator='|', strip=True).split('|')[0]\n",
    "            timestamp_obj = datetime.strptime(timestamp, \"%d %b %Y %I:%M%p\")\n",
    "            item['timestamp_published'] = calendar.timegm(timestamp_obj.timetuple())\n",
    "        \n",
    "        loop.set_postfix(Processing=header.text)\n",
    "\n",
    "    return articles\n",
    "\n",
    "def format_articles(articles):\n",
    "    \"\"\"\n",
    "    Format scraped data\n",
    "    \"\"\"\n",
    "\n",
    "    formatted_articles = []\n",
    "    \n",
    "    # Format article\n",
    "    for article in articles:\n",
    "        if 'text' not in article:\n",
    "            continue\n",
    "        \n",
    "        article = {\n",
    "            'title': article['headline'],\n",
    "            'body': \"\\n\".join(article['text']),\n",
    "            'timestamp_published': article['timestamp_published'] if 'timestamp_published' in article else 'null'\n",
    "        }\n",
    "\n",
    "        formatted_articles.append(article)\n",
    "\n",
    "    return formatted_articles\n",
    "\n",
    "def scrape_apnews():\n",
    "    \"\"\"\n",
    "    Scrape AP News Topic Terrorism\n",
    "    \"\"\"\n",
    "\n",
    "    # Base URL\n",
    "    cna_url=\"https://apnews.com/hub/terrorism\"\n",
    "\n",
    "    # Get webpage\n",
    "    html = requests.get(cna_url)\n",
    "\n",
    "    # Initialise bs object\n",
    "    bsobj = soup(html.content,'lxml')\n",
    "\n",
    "    # Find all article item in first section\n",
    "    items = bsobj.findAll(\"h3\", {'class':'PagePromo-title'})\n",
    "\n",
    "    # initialize the progress bar\n",
    "    # select a random color\n",
    "    colors = ['red', 'green', 'yellow', 'blue', 'magenta', 'cyan', 'white', 'steelblue']\n",
    "    random_color = random.choice(colors)\n",
    "    loop = tq.tqdm(enumerate(items), total=len(items), \n",
    "                        leave=True, colour=random_color, unit='article')\n",
    "    \n",
    "    articles = []\n",
    "\n",
    "    for _, header in loop:\n",
    "        item = {\n",
    "            'headline': header.text\n",
    "        }\n",
    "\n",
    "        # Enter news article\n",
    "        news_link = header.a['href']\n",
    "        news_html = requests.get(news_link)\n",
    "\n",
    "        # Traverse news article for main body\n",
    "        article = soup(news_html.content,'lxml')\n",
    "        content = article.find('div', {'class': 'RichTextStoryBody'})\n",
    "        if content:\n",
    "            article_texts = content.find_all('p')\n",
    "            article_text = []\n",
    "            for text in article_texts:\n",
    "                article_text.append(text.text)\n",
    "            item['text'] = article_text\n",
    "\n",
    "        timestamp_element = article.find('bsp-timestamp')\n",
    "        if timestamp_element:\n",
    "            item['timestamp_published'] = timestamp_element['data-timestamp']\n",
    "\n",
    "        articles.append(item)\n",
    "        \n",
    "        # Update progress description\n",
    "        loop.set_postfix(Processing=header.text)\n",
    "    \n",
    "    return articles"
   ]
  },
  {
   "cell_type": "code",
   "execution_count": 55,
   "metadata": {},
   "outputs": [
    {
     "data": {
      "application/vnd.jupyter.widget-view+json": {
       "model_id": "4d0d22dfe6dc4ee79fea6898e11ac60b",
       "version_major": 2,
       "version_minor": 0
      },
      "text/plain": [
       "  0%|          | 0/39 [00:00<?, ?article/s]"
      ]
     },
     "metadata": {},
     "output_type": "display_data"
    }
   ],
   "source": [
    "articles = scrape_apnews()\n",
    "formatted_articles_apnews = format_articles(articles)"
   ]
  },
  {
   "cell_type": "code",
   "execution_count": 58,
   "metadata": {},
   "outputs": [
    {
     "name": "stdout",
     "output_type": "stream",
     "text": [
      "dict_keys(['title', 'body', 'timestamp_published'])\n"
     ]
    }
   ],
   "source": [
    "print(formatted_articles_apnews[2].keys())"
   ]
  },
  {
   "cell_type": "code",
   "execution_count": 80,
   "metadata": {},
   "outputs": [
    {
     "data": {
      "application/vnd.jupyter.widget-view+json": {
       "model_id": "682a44f2ac9e4bcb97e465234c53f43c",
       "version_major": 2,
       "version_minor": 0
      },
      "text/plain": [
       "  0%|          | 0/15 [00:00<?, ?article/s]"
      ]
     },
     "metadata": {},
     "output_type": "display_data"
    }
   ],
   "source": [
    "articles = scrape_cna()\n",
    "formatted_articles_cna = format_articles(articles)"
   ]
  },
  {
   "cell_type": "code",
   "execution_count": 81,
   "metadata": {},
   "outputs": [
    {
     "name": "stdout",
     "output_type": "stream",
     "text": [
      "{'title': \"\\n\\n      CNA Explains: What happens if there's a bomb threat on your flight?\\n  \\n\", 'body': '\\nSINGAPORE: Earlier this month, a bomb threat on Scoot flight TR16\\xa0forced the Perth-bound plane to turn back to Singapore.\\nAn Australian passenger was arrested and charged with making false threats of terrorist acts. He allegedly repeatedly told cabin crew that he had a bomb.\\nLast year, Singapore Airlines flight SQ33 from San Francisco also had a similar scare, when a bomb threat was made more than 12 hours after take-off.\\nThe plane eventually landed safely at Changi Airport and the passenger was given a stern warning and jail for slapping a cabin crew member.\\nThe Republic of Singapore Air Force\\'s (RSAF) Air Defence Task Force deals with more than 350 suspicious air threats each year on average, according to\\xa0a 2022 article from the Singapore Armed Forces PIONEER magazine.\\nWhat can passengers expect after a bomb threat is made on a plane, and how do security efforts take place thousands of feet above ground? CNA finds out.\\nWhat happens after a bomb threat is made?\\nAirlines follow international procedures to vet each threat, said Professor Jeffrey Charles Price, who teaches aviation and aerospace science at the Metropolitan State University of Denver.\\nThe specific processes are confidential. But not every bomb threat is acted on. It is important to determine if the threat is real, or the aviation system could be shut down by someone calling in bomb hoaxes all day, he pointed out.\\nAuthorities will have to look at all the information available, including whether the threat was made by somebody on the plane or came in a phone call or email.\\nOnce an airline determines that a threat requires further action, it will notify its national aviation authority and the air traffic control.\\nThe RSAF scrambled two fighter jets mere minutes after being alerted to the bomb threat on SQ33, according to PIONEER.\\nExplosive ordnance disposal experts from the 36th\\xa0Battalion of the Singapore Combat Engineers\\xa0also stood by on the ground to determine if that bomb threat was real.\\nRSAF can also use artificial intelligence and data analytics to formulate its response, and put ground-based air defence systems and sensors on high alert, according to an article in PIONEER about a 2022 air threat exercise.\\n\\n\\nWhy does the plane start flying in loops over the same area?\\nDuring the bomb scare on TR16, an online flight tracker showed the plane flying in loops over the South China Sea east of Malaysia for about 50 minutes, before returning to Singapore.\\n\\n\\nWhen the bomb threat is ongoing, no one can be sure about the extent of the threat or even if there is a valid threat, said Prof Price.\\nAfter authorities are alerted, more actions continue to take place to evaluate the threat, and law enforcement agencies also get involved.\\nThe aircraft may be put into a holding pattern during that time so that these parties can decide the next best course of action, he said.\\nWhy is the plane escorted by fighter jets?\\nSince the 9/11 attacks, any aircraft that is under distress will typically be escorted by military aircraft, said Prof Price.\\n\"Military personnel act as observers, and if the aircraft does not follow directions, they may be able to determine that it is no longer under the control of the pilot in command,\" he said.\\nIn that case, \"they may have to take more drastic measures, which may result in shooting down the plane\".\\n\\n\\nDoes the affected flight have to turn back or go forward? Can it just land at the nearest airport?\\nA plane may turn back if it is not far from the departure airport and that is the best place for it to land, said Prof Price.\\nBut if it is more than halfway to its destination, it may continue flying there or divert to the nearest airport with the ability to handle the situation.\\nThe decision depends on the amount of information that authorities have to work with, he added.\\nWhat happens while the plane is waiting on the tarmac?\\nPassengers on TR16 had to wait three hours to disembark after the plane landed at Changi Airport. Prof Price said this length of time was \"about right\".\\nAuthorities need time to evaluate the passengers by checking passenger name records against any known terrorist or threat-related databases.\\n\"It cannot be assumed that there is just one bomb threat, and one person making the threat and just one bomb (if it\\'s real),\" he said, adding that authorities will want to know as much as they can about the situation.\\n\"During a threat like this, the ground is typically the safest place for the plane to be.\"\\nIn the SQ33 incident,\\xa0teams from the SAF\\'s Chemical, Biological, Radiological and Explosive Defence Group and the Airport Police Division also conducted security checks after the plane landed.\\n', 'timestamp_published': 1698213600}\n"
     ]
    }
   ],
   "source": [
    "print(formatted_articles_cna[12])"
   ]
  },
  {
   "cell_type": "code",
   "execution_count": null,
   "metadata": {},
   "outputs": [],
   "source": []
  }
 ],
 "metadata": {
  "kernelspec": {
   "display_name": ".venv",
   "language": "python",
   "name": "python3"
  },
  "language_info": {
   "codemirror_mode": {
    "name": "ipython",
    "version": 3
   },
   "file_extension": ".py",
   "mimetype": "text/x-python",
   "name": "python",
   "nbconvert_exporter": "python",
   "pygments_lexer": "ipython3",
   "version": "3.11.2"
  }
 },
 "nbformat": 4,
 "nbformat_minor": 2
}
