{
 "cells": [
  {
   "cell_type": "code",
   "execution_count": 1,
   "metadata": {},
   "outputs": [],
   "source": [
    "from datetime import date\n",
    "from bs4 import BeautifulSoup as soup\n",
    "import requests\n",
    "import tqdm.notebook as tq\n",
    "import random"
   ]
  },
  {
   "cell_type": "code",
   "execution_count": 31,
   "metadata": {},
   "outputs": [],
   "source": [
    "def scrape_cna():\n",
    "    \"\"\"\n",
    "    Scrape Channel News Asia Topic Terrorism\n",
    "    \"\"\"   \n",
    "    # Base URL\n",
    "    cna_url=\"https://www.channelnewsasia.com/topic/terrorism\"\n",
    "    cna_base_url = 'https://www.channelnewsasia.com'\n",
    "\n",
    "    # Get webpage\n",
    "    html = requests.get(cna_url)\n",
    "\n",
    "    # Initialise bs object\n",
    "    bsobj = soup(html.content,'lxml')\n",
    "\n",
    "    # Find all headers\n",
    "    headers = bsobj.findAll(\"h6\")\n",
    "\n",
    "    # initialize the progress bar\n",
    "    # select a random color\n",
    "    colors = ['red', 'green', 'yellow', 'blue', 'magenta', 'cyan', 'white', 'steelblue']\n",
    "    random_color = random.choice(colors)\n",
    "    loop = tq.tqdm(enumerate(headers), total=len(headers), \n",
    "                        leave=True, colour=random_color, unit='article')\n",
    "\n",
    "    articles = []\n",
    "\n",
    "    for _, header in loop:\n",
    "        item = {\n",
    "            'headline': header.text\n",
    "        }\n",
    "\n",
    "        # Enter news article\n",
    "        news_link = cna_base_url + header.a['href']\n",
    "        news_html = requests.get(news_link)\n",
    "\n",
    "        # Traverse news article for main body\n",
    "        article = soup(news_html.content,'lxml')\n",
    "        content = article.find('div', {'class': 'content'})\n",
    "        if content:\n",
    "            content_wrapper = content.find_all('div', {'class': 'content-wrapper'})\n",
    "\n",
    "            article_text = []\n",
    "            for content in content_wrapper:\n",
    "                # Extract text\n",
    "                main_text = content.find('div', {'class': 'text'})\n",
    "                if main_text:\n",
    "                    article_text.append(main_text.get_text())\n",
    "        \n",
    "            item['text'] = article_text\n",
    "            articles.append(item)\n",
    "        \n",
    "        loop.set_postfix(Processing=header.text)\n",
    "\n",
    "    return articles\n",
    "\n",
    "def format_articles(articles):\n",
    "    \"\"\"\n",
    "    Format scraped data\n",
    "    \"\"\"\n",
    "\n",
    "    formatted_articles = []\n",
    "\n",
    "    # Format article\n",
    "    for article in articles:\n",
    "        if 'text' not in article:\n",
    "            continue\n",
    "        body = \"\\n\".join(article['text'])\n",
    "        whole = \"\\n\".join([article['headline'], body])\n",
    "\n",
    "        formatted_articles.append(whole)\n",
    "\n",
    "    return formatted_articles\n",
    "\n",
    "def scrape_apnews():\n",
    "    \"\"\"\n",
    "    Scrape AP News Topic Terrorism\n",
    "    \"\"\"\n",
    "\n",
    "    # Base URL\n",
    "    cna_url=\"https://apnews.com/hub/terrorism\"\n",
    "\n",
    "    # Get webpage\n",
    "    html = requests.get(cna_url)\n",
    "\n",
    "    # Initialise bs object\n",
    "    bsobj = soup(html.content,'lxml')\n",
    "\n",
    "    # Find all article item in first section\n",
    "    items = bsobj.findAll(\"h3\", {'class':'PagePromo-title'})\n",
    "\n",
    "    # initialize the progress bar\n",
    "    # select a random color\n",
    "    colors = ['red', 'green', 'yellow', 'blue', 'magenta', 'cyan', 'white', 'steelblue']\n",
    "    random_color = random.choice(colors)\n",
    "    loop = tq.tqdm(enumerate(items), total=len(items), \n",
    "                        leave=True, colour=random_color, unit='article')\n",
    "    \n",
    "    articles = []\n",
    "\n",
    "    for _, header in loop:\n",
    "        item = {\n",
    "            'headline': header.text\n",
    "        }\n",
    "\n",
    "        # Enter news article\n",
    "        news_link = header.a['href']\n",
    "        news_html = requests.get(news_link)\n",
    "\n",
    "        # Traverse news article for main body\n",
    "        article = soup(news_html.content,'lxml')\n",
    "        content = article.find('div', {'class': 'RichTextStoryBody'})\n",
    "        if content:\n",
    "            article_texts = content.find_all('p')\n",
    "            article_text = []\n",
    "            for text in article_texts:\n",
    "                article_text.append(text.text)\n",
    "            item['text'] = article_text\n",
    "\n",
    "        articles.append(item)\n",
    "        \n",
    "        # Update progress description\n",
    "        loop.set_postfix(Processing=header.text)\n",
    "    \n",
    "    return articles\n",
    "        \n",
    "    "
   ]
  },
  {
   "cell_type": "code",
   "execution_count": 29,
   "metadata": {},
   "outputs": [
    {
     "data": {
      "application/vnd.jupyter.widget-view+json": {
       "model_id": "1f515a895b57406bac18d6b1c5ef3e10",
       "version_major": 2,
       "version_minor": 0
      },
      "text/plain": [
       "  0%|          | 0/39 [00:00<?, ?article/s]"
      ]
     },
     "metadata": {},
     "output_type": "display_data"
    },
    {
     "ename": "KeyError",
     "evalue": "'text'",
     "output_type": "error",
     "traceback": [
      "\u001b[1;31m---------------------------------------------------------------------------\u001b[0m",
      "\u001b[1;31mKeyError\u001b[0m                                  Traceback (most recent call last)",
      "Cell \u001b[1;32mIn[29], line 2\u001b[0m\n\u001b[0;32m      1\u001b[0m articles \u001b[38;5;241m=\u001b[39m scrape_apnews()\n\u001b[1;32m----> 2\u001b[0m formatted_articles_apnews \u001b[38;5;241m=\u001b[39m \u001b[43mformat_articles\u001b[49m\u001b[43m(\u001b[49m\u001b[43marticles\u001b[49m\u001b[43m)\u001b[49m\n",
      "Cell \u001b[1;32mIn[28], line 65\u001b[0m, in \u001b[0;36mformat_articles\u001b[1;34m(articles)\u001b[0m\n\u001b[0;32m     63\u001b[0m \u001b[38;5;66;03m# Format article\u001b[39;00m\n\u001b[0;32m     64\u001b[0m \u001b[38;5;28;01mfor\u001b[39;00m article \u001b[38;5;129;01min\u001b[39;00m articles:\n\u001b[1;32m---> 65\u001b[0m     body \u001b[38;5;241m=\u001b[39m \u001b[38;5;124m\"\u001b[39m\u001b[38;5;130;01m\\n\u001b[39;00m\u001b[38;5;124m\"\u001b[39m\u001b[38;5;241m.\u001b[39mjoin(\u001b[43marticle\u001b[49m\u001b[43m[\u001b[49m\u001b[38;5;124;43m'\u001b[39;49m\u001b[38;5;124;43mtext\u001b[39;49m\u001b[38;5;124;43m'\u001b[39;49m\u001b[43m]\u001b[49m)\n\u001b[0;32m     66\u001b[0m     whole \u001b[38;5;241m=\u001b[39m \u001b[38;5;124m\"\u001b[39m\u001b[38;5;130;01m\\n\u001b[39;00m\u001b[38;5;124m\"\u001b[39m\u001b[38;5;241m.\u001b[39mjoin([article[\u001b[38;5;124m'\u001b[39m\u001b[38;5;124mheadline\u001b[39m\u001b[38;5;124m'\u001b[39m], body])\n\u001b[0;32m     68\u001b[0m     formatted_articles\u001b[38;5;241m.\u001b[39mappend(whole)\n",
      "\u001b[1;31mKeyError\u001b[0m: 'text'"
     ]
    }
   ],
   "source": [
    "articles = scrape_apnews()\n",
    "formatted_articles_apnews = format_articles(articles)"
   ]
  },
  {
   "cell_type": "code",
   "execution_count": 36,
   "metadata": {},
   "outputs": [
    {
     "name": "stdout",
     "output_type": "stream",
     "text": [
      "\n",
      "Judge denies bail to teen charged with terror-related offenses after stabbings at Sydney church\n",
      "\n",
      "SYDNEY (AP) — A judge denied bail Thursday to a 15-year-old boy alleged to be in a network planning terrorist acts and who claimed to be a friend of another teen accused of stabbing a Sydney bishop last month.\n",
      "The attack on the bishop triggered an investigation that led to the arrests of six teens, ages 14 to 17, who were charged last week with a range of offenses including conspiring to engage in or planning a terrorist act. All remain in custody.\n",
      "The 15-year-old boy’s lawyer Ahmed Dib had applied for bail Wednesday in the Parramatta Children’s Court, arguing there were exceptional circumstances that required his client’s release.\n",
      "But Magistrate James Viney ruled such circumstances did not exist. “There is an unacceptable risk to the protection of the community,” Viney said.\n",
      "Viney said he found the boy’s alleged threats to stab Jewish or Assyrian people, a predominantly Christian ethnic group native to the Middle East, and an alleged assault to be “gravely concerning.”\n",
      "“The messages clearly set up the young person wanting to do something catastrophic,” Viney said.\n",
      "The boy was already in custody on an assault charge when the terrorism-related charge was added Friday.\n",
      "Earlier last week, he was accused of being part of group that threw rocks at a liquor store employee. The boy allegedly threw a wooden plank that narrowly missed his intended target. The boy was allegedly carrying a knife at the time.\n",
      "\n",
      "\n",
      "Prosecutor Rebekah Rodger said the boy had told associates in an encrypted chat group that the 16-year-old boy accused of stabbing an Assyrian Orthodox bishop and priest on April 15 was “my mate.”\n",
      "Later, the boy’s lawyer, Dib, told reporters he would apply for bail to the New South Wales state Supreme Court.\n",
      "The documents Dib had submitted as evidence of his client’s special circumstances showed the boy had a history of behavioral issues, lacked confidence and had low self-esteem.\n",
      "The boy propped his head up with his hand for much of the hearing as he watched on from custody via videolink, as his parents sat in court.\n",
      "Viney said he had “no doubt” the parents were both loving and supportive of their son, and had confiscated his phone after becoming concerned by his behavior.\n",
      "“They are genuinely shocked as to the charges he’s facing,” Viney said.\n",
      "At the end of the hearing, the mother left the courtroom in tears.\n",
      "Police alleged the six teens arrested last week all “adhered to a religiously motivated, violent extremist ideology” and were part of a network that included the boy who is accused of the stabbing in the Christ the Good Shepherd Church as a service was being streamed online. Neither the bishop nor priest suffered life-threatening injuries.\n",
      "The boy arrested in the stabbings was charged with committing a terrorist act four days after the attack that triggered a riot outside the church. \n"
     ]
    }
   ],
   "source": [
    "print(formatted_articles_apnews[2])"
   ]
  },
  {
   "cell_type": "code",
   "execution_count": 26,
   "metadata": {},
   "outputs": [],
   "source": [
    "# Base URL\n",
    "cna_url=\"https://apnews.com/hub/terrorism\"\n",
    "\n",
    "# Get webpage\n",
    "html = requests.get(cna_url)\n",
    "\n",
    "# Initialise bs object\n",
    "bsobj = soup(html.content,'lxml')\n",
    "\n",
    "# Find all article item in first section\n",
    "items = bsobj.findAll(\"h3\", {'class':'PagePromo-title'})\n",
    "\n",
    "news_link = items[0].a['href']\n",
    "news_html = requests.get(news_link)\n",
    "article = soup(news_html.content,'lxml')\n",
    "\n",
    "content = article.find('div', {'class': 'RichTextStoryBody'})\n",
    "article_texts = content.find_all('p')\n",
    "article_text = []\n",
    "for text in article_texts:\n",
    "  article_text.append(text.text)"
   ]
  },
  {
   "cell_type": "code",
   "execution_count": 27,
   "metadata": {},
   "outputs": [
    {
     "data": {
      "text/plain": [
       "['TALLINN, Estonia (AP) — A Russian court on Monday opened the trial of a theater director and a playwright accused of advocating terrorism in a play, the latest step in an unrelenting crackdown on dissent in Russia that has reached new heights since Moscow sent troops into Ukraine. ',\n",
       " 'Zhenya Berkovich, a prominent independent theater director, and playwright Svetlana Petriychuk have been jailed for over a year. Authorities claim their play “Finist, the Brave Falcon” justifies terrorism, which is a criminal offense in Russia punishable by up to seven years in prison. Berkovich and Petriychuk have both repeatedly rejected the accusations against them. ',\n",
       " 'Berkovich told the court on Monday that she staged the play in order to prevent terrorism, and Petriychuk echoed her sentiment, saying that she wrote it in order to prevent events like those depicted in the play. ',\n",
       " 'The women’s lawyers have pointed out at court hearings before the trial that the play was supported by the Russian Culture Ministry and won the Golden Mask award, Russia’s most prestigious national theater award. In 2019, the play was read to inmates of a women’s prison in Siberia, and Russia’s state penitentiary service praised it on its website, Petriychuk’s lawyer has said.',\n",
       " 'The case against Berkovich and Petriychuk elicited outrage in Russia. An open letter in support of the two artists, started by the independent Novaya Gazeta newspaper, has been signed by more than 16,000 people since their arrest. The play, the letter argued, “carries an absolutely clear anti-terrorist sentiment.”',\n",
       " '\\n',\n",
       " 'Dozens of Russian actors, directors and journalists also signed affidavits urging the court to release the two from custody pending investigation and trial.',\n",
       " 'Immediately after Russia launched its full-scale invasion of Ukraine, the Kremlin unleashed a sweeping campaign of repression, unparalleled since the Soviet era. It has effectively criminalized any criticism of the war, with the authorities targeting not only prominent opposition figures who eventually received draconian prison terms, but anyone who spoke out against it, publicly or otherwise.',\n",
       " 'Pressure mounted on critical artists in Russia, too. Actors and directors were fired from state-run theaters, and musicians were blacklisted from performing in the country. Some were slapped with label “foreign agent,” which carries additional government scrutiny and strong negative connotations. Many have left Russia.',\n",
       " 'Berkovich, who is raising two adopted daughters, has refused to leave Russia and continued working with her independent theater production in Moscow, called Soso’s Daughters. Shortly after the start of the war in Ukraine, she staged an anti-war picket and was jailed for 11 days. ']"
      ]
     },
     "execution_count": 27,
     "metadata": {},
     "output_type": "execute_result"
    }
   ],
   "source": [
    "article_text"
   ]
  },
  {
   "cell_type": "code",
   "execution_count": 19,
   "metadata": {},
   "outputs": [
    {
     "data": {
      "application/vnd.jupyter.widget-view+json": {
       "model_id": "34953ed4bf174812985ff1e3a3c95897",
       "version_major": 2,
       "version_minor": 0
      },
      "text/plain": [
       "  0%|          | 0/15 [00:00<?, ?article/s]"
      ]
     },
     "metadata": {},
     "output_type": "display_data"
    }
   ],
   "source": [
    "articles = scrape_cna()\n",
    "formatted_articles_cna = format_articles(articles)\n"
   ]
  },
  {
   "cell_type": "code",
   "execution_count": 12,
   "metadata": {},
   "outputs": [
    {
     "name": "stdout",
     "output_type": "stream",
     "text": [
      "\n",
      "\n",
      "      Brussels gunman suspect was known to police but not on watchlist\n",
      "  \n",
      "\n",
      "\n",
      "BRUSSELS: A man suspected of shooting dead two Swedish football fans and wounding another in Brussels was a 45-year-old Tunisian who had an asylum application rejected in 2020 but continued to live in Belgium illegally, according to Belgian officials.\n",
      "After an overnight manhunt, police fatally shot the suspect at a cafe in the Schaerbeek district of northern Brussels on Tuesday morning (Oct 17), a day after his deadly attack, which prosecutors are treating as an act of terrorism.\n",
      "Authorities said initial indications were that the suspect, who they have not named, was working as a lone wolf, rather than as part of a broad network.\n",
      "In a video claiming responsibility for the attack, he said he was a member of the Islamic State militant group and gave his name as Abdesalem Al Guilani. Belgian state broadcaster RTBF named him as Abdesalem Lassoued.\n",
      "At the yellow-brick apartment block in Schaerbeek overlooking a small park where the suspect lived, uniformed police stood guard on Tuesday morning while investigators searched for evidence inside.\n",
      "The suspect had lived with a partner and their daughter in an apartment one floor up from the ground floor, neighbours said. The partner worked in a women's hair salon, according to one neighbour, who declined to be named.\n",
      "\"He was the sort of person you would say said hello to, but not much more. He kept himself to himself,\" said one woman, standing opposite a door smashed in by police in the apartment above the suspect's.\n",
      "\"He was polite, there was no indication that something like this might happen,\" said a male neighbour.\n",
      "At a news briefing earlier on Tuesday, as police searched for the suspect, Belgian Justice Minister Vincent Van Quickenborne said the man was known to police and suspected of offences including human trafficking and illegal residence.\n",
      "In 2016, a foreign police service passed on an unconfirmed report that the man had a \"radicalised profile\" and wanted to go to a war zone to wage jihad, Van Quickenborne said.\n",
      "It later emerged that his identification as a subject at risk of radicalisation came from Italy, where he had arrived in 2011. He also moved to Sweden, from where he was later expelled.\n",
      "But the Belgian minister said that there had been \"no concrete indication\" that the man had been radicalised in the time he was known to the Belgian security services, so he was not on any watchlist.\n",
      "After his asylum application was denied in October 2020, Belgian authorities said he \"disappeared from the radar\" before an expulsion order in March 2021 that was not carried out.\n",
      "Belgian Prime Minister Alexander De Croo said he was not among some 700 people on Belgium's terror watch list and had not stayed at an asylum-seekers centre, making it more difficult to track and expel him.\n",
      "\"The illegal Tunisian man lived here below the water line and yesterday he struck in a cowardly way towards our society from below the water line,\" De Croo said, adding that an expulsion order must be carried out more urgently.\n",
      "The shooting came at a time of heightened security concerns across much of Europe linked to the Israel-Hamas conflict.\n",
      "This year, Belgian authorities received a tip that the man had been convicted of terrorism in Tunisia but the information proved to be false as the man had only been convicted of common law offences, Van Quickenborne said.\n",
      "Nevertheless, apparently out of an abundance of caution, security authorities had convened a meeting to discuss his case, the minister said.\n",
      "The meeting had been due to take place on Tuesday - the day he was fatally shot by police.\n",
      "\n"
     ]
    }
   ],
   "source": [
    "print(formatted_articles_cna[12])"
   ]
  },
  {
   "cell_type": "code",
   "execution_count": null,
   "metadata": {},
   "outputs": [],
   "source": []
  }
 ],
 "metadata": {
  "kernelspec": {
   "display_name": ".venv",
   "language": "python",
   "name": "python3"
  },
  "language_info": {
   "codemirror_mode": {
    "name": "ipython",
    "version": 3
   },
   "file_extension": ".py",
   "mimetype": "text/x-python",
   "name": "python",
   "nbconvert_exporter": "python",
   "pygments_lexer": "ipython3",
   "version": "3.11.2"
  }
 },
 "nbformat": 4,
 "nbformat_minor": 2
}
