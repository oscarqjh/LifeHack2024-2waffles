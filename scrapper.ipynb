{
 "cells": [
  {
   "cell_type": "code",
   "execution_count": 1,
   "metadata": {},
   "outputs": [],
   "source": [
    "from datetime import date\n",
    "from bs4 import BeautifulSoup as soup\n",
    "import requests\n",
    "import tqdm.notebook as tq\n",
    "import random"
   ]
  },
  {
   "cell_type": "code",
   "execution_count": 54,
   "metadata": {},
   "outputs": [],
   "source": [
    "def scrape_cna():\n",
    "    \"\"\"\n",
    "    Scrape Channel News Asia Topic Terrorism\n",
    "    \"\"\"   \n",
    "    # Base URL\n",
    "    cna_url=\"https://www.channelnewsasia.com/topic/terrorism\"\n",
    "    cna_base_url = 'https://www.channelnewsasia.com'\n",
    "\n",
    "    # Get webpage\n",
    "    html = requests.get(cna_url)\n",
    "\n",
    "    # Initialise bs object\n",
    "    bsobj = soup(html.content,'lxml')\n",
    "\n",
    "    # Find all headers\n",
    "    headers = bsobj.findAll(\"h6\")\n",
    "\n",
    "    # initialize the progress bar\n",
    "    # select a random color\n",
    "    colors = ['red', 'green', 'yellow', 'blue', 'magenta', 'cyan', 'white', 'steelblue']\n",
    "    random_color = random.choice(colors)\n",
    "    loop = tq.tqdm(enumerate(headers), total=len(headers), \n",
    "                        leave=True, colour=random_color, unit='article')\n",
    "\n",
    "    articles = []\n",
    "\n",
    "    for _, header in loop:\n",
    "        item = {\n",
    "            'headline': header.text\n",
    "        }\n",
    "\n",
    "        # Enter news article\n",
    "        news_link = cna_base_url + header.a['href']\n",
    "        news_html = requests.get(news_link)\n",
    "\n",
    "        # Traverse news article for main body\n",
    "        article = soup(news_html.content,'lxml')\n",
    "        content = article.find('div', {'class': 'content'})\n",
    "        if content:\n",
    "            content_wrapper = content.find_all('div', {'class': 'content-wrapper'})\n",
    "\n",
    "            article_text = []\n",
    "            for content in content_wrapper:\n",
    "                # Extract text\n",
    "                main_text = content.find('div', {'class': 'text'})\n",
    "                if main_text:\n",
    "                    article_text.append(main_text.get_text())\n",
    "        \n",
    "            item['text'] = article_text\n",
    "            articles.append(item)\n",
    "        \n",
    "        loop.set_postfix(Processing=header.text)\n",
    "\n",
    "    return articles\n",
    "\n",
    "def format_articles(articles):\n",
    "    \"\"\"\n",
    "    Format scraped data\n",
    "    \"\"\"\n",
    "\n",
    "    formatted_articles = []\n",
    "    \n",
    "    # Format article\n",
    "    for article in articles:\n",
    "        if 'text' not in article:\n",
    "            continue\n",
    "        \n",
    "        article = {\n",
    "            'title': article['headline'],\n",
    "            'body': \"\\n\".join(article['text']),\n",
    "            'timestamp_published': article['timestamp_published']\n",
    "        }\n",
    "\n",
    "        formatted_articles.append(article)\n",
    "\n",
    "    return formatted_articles\n",
    "\n",
    "def scrape_apnews():\n",
    "    \"\"\"\n",
    "    Scrape AP News Topic Terrorism\n",
    "    \"\"\"\n",
    "\n",
    "    # Base URL\n",
    "    cna_url=\"https://apnews.com/hub/terrorism\"\n",
    "\n",
    "    # Get webpage\n",
    "    html = requests.get(cna_url)\n",
    "\n",
    "    # Initialise bs object\n",
    "    bsobj = soup(html.content,'lxml')\n",
    "\n",
    "    # Find all article item in first section\n",
    "    items = bsobj.findAll(\"h3\", {'class':'PagePromo-title'})\n",
    "\n",
    "    # initialize the progress bar\n",
    "    # select a random color\n",
    "    colors = ['red', 'green', 'yellow', 'blue', 'magenta', 'cyan', 'white', 'steelblue']\n",
    "    random_color = random.choice(colors)\n",
    "    loop = tq.tqdm(enumerate(items), total=len(items), \n",
    "                        leave=True, colour=random_color, unit='article')\n",
    "    \n",
    "    articles = []\n",
    "\n",
    "    for _, header in loop:\n",
    "        item = {\n",
    "            'headline': header.text\n",
    "        }\n",
    "\n",
    "        # Enter news article\n",
    "        news_link = header.a['href']\n",
    "        news_html = requests.get(news_link)\n",
    "\n",
    "        # Traverse news article for main body\n",
    "        article = soup(news_html.content,'lxml')\n",
    "        content = article.find('div', {'class': 'RichTextStoryBody'})\n",
    "        if content:\n",
    "            article_texts = content.find_all('p')\n",
    "            article_text = []\n",
    "            for text in article_texts:\n",
    "                article_text.append(text.text)\n",
    "            item['text'] = article_text\n",
    "\n",
    "        timestamp_element = article.find('bsp-timestamp')\n",
    "        if timestamp_element:\n",
    "            item['timestamp_published'] = timestamp_element['data-timestamp']\n",
    "\n",
    "        articles.append(item)\n",
    "        \n",
    "        # Update progress description\n",
    "        loop.set_postfix(Processing=header.text)\n",
    "    \n",
    "    return articles"
   ]
  },
  {
   "cell_type": "code",
   "execution_count": 55,
   "metadata": {},
   "outputs": [
    {
     "data": {
      "application/vnd.jupyter.widget-view+json": {
       "model_id": "4d0d22dfe6dc4ee79fea6898e11ac60b",
       "version_major": 2,
       "version_minor": 0
      },
      "text/plain": [
       "  0%|          | 0/39 [00:00<?, ?article/s]"
      ]
     },
     "metadata": {},
     "output_type": "display_data"
    }
   ],
   "source": [
    "articles = scrape_apnews()\n",
    "formatted_articles_apnews = format_articles(articles)"
   ]
  },
  {
   "cell_type": "code",
   "execution_count": 58,
   "metadata": {},
   "outputs": [
    {
     "name": "stdout",
     "output_type": "stream",
     "text": [
      "dict_keys(['title', 'body', 'timestamp_published'])\n"
     ]
    }
   ],
   "source": [
    "print(formatted_articles_apnews[2].keys())"
   ]
  },
  {
   "cell_type": "code",
   "execution_count": 19,
   "metadata": {},
   "outputs": [
    {
     "data": {
      "application/vnd.jupyter.widget-view+json": {
       "model_id": "34953ed4bf174812985ff1e3a3c95897",
       "version_major": 2,
       "version_minor": 0
      },
      "text/plain": [
       "  0%|          | 0/15 [00:00<?, ?article/s]"
      ]
     },
     "metadata": {},
     "output_type": "display_data"
    }
   ],
   "source": [
    "articles = scrape_cna()\n",
    "formatted_articles_cna = format_articles(articles)\n"
   ]
  },
  {
   "cell_type": "code",
   "execution_count": 12,
   "metadata": {},
   "outputs": [
    {
     "name": "stdout",
     "output_type": "stream",
     "text": [
      "\n",
      "\n",
      "      Brussels gunman suspect was known to police but not on watchlist\n",
      "  \n",
      "\n",
      "\n",
      "BRUSSELS: A man suspected of shooting dead two Swedish football fans and wounding another in Brussels was a 45-year-old Tunisian who had an asylum application rejected in 2020 but continued to live in Belgium illegally, according to Belgian officials.\n",
      "After an overnight manhunt, police fatally shot the suspect at a cafe in the Schaerbeek district of northern Brussels on Tuesday morning (Oct 17), a day after his deadly attack, which prosecutors are treating as an act of terrorism.\n",
      "Authorities said initial indications were that the suspect, who they have not named, was working as a lone wolf, rather than as part of a broad network.\n",
      "In a video claiming responsibility for the attack, he said he was a member of the Islamic State militant group and gave his name as Abdesalem Al Guilani. Belgian state broadcaster RTBF named him as Abdesalem Lassoued.\n",
      "At the yellow-brick apartment block in Schaerbeek overlooking a small park where the suspect lived, uniformed police stood guard on Tuesday morning while investigators searched for evidence inside.\n",
      "The suspect had lived with a partner and their daughter in an apartment one floor up from the ground floor, neighbours said. The partner worked in a women's hair salon, according to one neighbour, who declined to be named.\n",
      "\"He was the sort of person you would say said hello to, but not much more. He kept himself to himself,\" said one woman, standing opposite a door smashed in by police in the apartment above the suspect's.\n",
      "\"He was polite, there was no indication that something like this might happen,\" said a male neighbour.\n",
      "At a news briefing earlier on Tuesday, as police searched for the suspect, Belgian Justice Minister Vincent Van Quickenborne said the man was known to police and suspected of offences including human trafficking and illegal residence.\n",
      "In 2016, a foreign police service passed on an unconfirmed report that the man had a \"radicalised profile\" and wanted to go to a war zone to wage jihad, Van Quickenborne said.\n",
      "It later emerged that his identification as a subject at risk of radicalisation came from Italy, where he had arrived in 2011. He also moved to Sweden, from where he was later expelled.\n",
      "But the Belgian minister said that there had been \"no concrete indication\" that the man had been radicalised in the time he was known to the Belgian security services, so he was not on any watchlist.\n",
      "After his asylum application was denied in October 2020, Belgian authorities said he \"disappeared from the radar\" before an expulsion order in March 2021 that was not carried out.\n",
      "Belgian Prime Minister Alexander De Croo said he was not among some 700 people on Belgium's terror watch list and had not stayed at an asylum-seekers centre, making it more difficult to track and expel him.\n",
      "\"The illegal Tunisian man lived here below the water line and yesterday he struck in a cowardly way towards our society from below the water line,\" De Croo said, adding that an expulsion order must be carried out more urgently.\n",
      "The shooting came at a time of heightened security concerns across much of Europe linked to the Israel-Hamas conflict.\n",
      "This year, Belgian authorities received a tip that the man had been convicted of terrorism in Tunisia but the information proved to be false as the man had only been convicted of common law offences, Van Quickenborne said.\n",
      "Nevertheless, apparently out of an abundance of caution, security authorities had convened a meeting to discuss his case, the minister said.\n",
      "The meeting had been due to take place on Tuesday - the day he was fatally shot by police.\n",
      "\n"
     ]
    }
   ],
   "source": [
    "print(formatted_articles_cna[12])"
   ]
  },
  {
   "cell_type": "code",
   "execution_count": null,
   "metadata": {},
   "outputs": [],
   "source": []
  }
 ],
 "metadata": {
  "kernelspec": {
   "display_name": ".venv",
   "language": "python",
   "name": "python3"
  },
  "language_info": {
   "codemirror_mode": {
    "name": "ipython",
    "version": 3
   },
   "file_extension": ".py",
   "mimetype": "text/x-python",
   "name": "python",
   "nbconvert_exporter": "python",
   "pygments_lexer": "ipython3",
   "version": "3.11.2"
  }
 },
 "nbformat": 4,
 "nbformat_minor": 2
}
